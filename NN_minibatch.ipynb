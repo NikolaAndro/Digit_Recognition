{
  "nbformat": 4,
  "nbformat_minor": 0,
  "metadata": {
    "colab": {
      "name": "NN_minibatch.ipynb",
      "provenance": [],
      "collapsed_sections": []
    },
    "kernelspec": {
      "name": "python3",
      "display_name": "Python 3"
    },
    "language_info": {
      "name": "python"
    }
  },
  "cells": [
    {
      "cell_type": "markdown",
      "source": [
        "# MNIST\n",
        "\n",
        "First I download the dataset from https://github.com/mnielsen/neural-networks-and-deep-learning/blob/master/data/mnist.pkl.gz and upload it onto colab instance (wget seems to corrupt the files)\n"
      ],
      "metadata": {
        "id": "VF4BzyfdXurP"
      }
    },
    {
      "cell_type": "markdown",
      "source": [
        "\n",
        "Then I replicate code from http://neuralnetworksanddeeplearning.com/chap1.html"
      ],
      "metadata": {
        "id": "2OcJ-0IgBgPj"
      }
    },
    {
      "cell_type": "code",
      "source": [
        "\"\"\"\n",
        "mnist_loader\n",
        "~~~~~~~~~~~~\n",
        "\n",
        "A library to load the MNIST image data.  For details of the data\n",
        "structures that are returned, see the doc strings for ``load_data``\n",
        "and ``load_data_wrapper``.  In practice, ``load_data_wrapper`` is the\n",
        "function usually called by our neural network code.\n",
        "\"\"\"\n",
        "\n",
        "#### Libraries\n",
        "# Standard library\n",
        "import pickle\n",
        "import gzip\n",
        "\n",
        "# Third-party libraries\n",
        "import numpy as np\n",
        "\n",
        "def load_data():\n",
        "    \"\"\"Return the MNIST data as a tuple containing the training data,\n",
        "    the validation data, and the test data.\n",
        "\n",
        "    The ``training_data`` is returned as a tuple with two entries.\n",
        "    The first entry contains the actual training images.  This is a\n",
        "    numpy ndarray with 50,000 entries.  Each entry is, in turn, a\n",
        "    numpy ndarray with 784 values, representing the 28 * 28 = 784\n",
        "    pixels in a single MNIST image.\n",
        "\n",
        "    The second entry in the ``training_data`` tuple is a numpy ndarray\n",
        "    containing 50,000 entries.  Those entries are just the digit\n",
        "    values (0...9) for the corresponding images contained in the first\n",
        "    entry of the tuple.\n",
        "\n",
        "    The ``validation_data`` and ``test_data`` are similar, except\n",
        "    each contains only 10,000 images.\n",
        "\n",
        "    This is a nice data format, but for use in neural networks it's\n",
        "    helpful to modify the format of the ``training_data`` a little.\n",
        "    That's done in the wrapper function ``load_data_wrapper()``, see\n",
        "    below.\n",
        "    \"\"\"\n",
        "    # f = gzip.open('../data/mnist.pkl.gz', 'rb')\n",
        "    f = gzip.open('../mnist.pkl.gz', 'rb')\n",
        "    training_data, validation_data, test_data = pickle.load(f, encoding='latin1')\n",
        "    f.close()\n",
        "    return (training_data, validation_data, test_data)\n",
        "\n",
        "def load_data_wrapper():\n",
        "    \"\"\"Return a tuple containing ``(training_data, validation_data,\n",
        "    test_data)``. Based on ``load_data``, but the format is more\n",
        "    convenient for use in our implementation of neural networks.\n",
        "\n",
        "    In particular, ``training_data`` is a list containing 50,000\n",
        "    2-tuples ``(x, y)``.  ``x`` is a 784-dimensional numpy.ndarray\n",
        "    containing the input image.  ``y`` is a 10-dimensional\n",
        "    numpy.ndarray representing the unit vector corresponding to the\n",
        "    correct digit for ``x``.\n",
        "\n",
        "    ``validation_data`` and ``test_data`` are lists containing 10,000\n",
        "    2-tuples ``(x, y)``.  In each case, ``x`` is a 784-dimensional\n",
        "    numpy.ndarry containing the input image, and ``y`` is the\n",
        "    corresponding classification, i.e., the digit values (integers)\n",
        "    corresponding to ``x``.\n",
        "\n",
        "    Obviously, this means we're using slightly different formats for\n",
        "    the training data and the validation / test data.  These formats\n",
        "    turn out to be the most convenient for use in our neural network\n",
        "    code.\"\"\"\n",
        "    tr_d, va_d, te_d = load_data()\n",
        "    training_inputs = [np.reshape(x, (784, 1)) for x in tr_d[0]]\n",
        "    training_results = [one_hot_result(y) for y in tr_d[1]]\n",
        "    training_data = zip(training_inputs, training_results)\n",
        "    validation_inputs = [np.reshape(x, (784, 1)) for x in va_d[0]]\n",
        "    validation_data = zip(validation_inputs, va_d[1])\n",
        "    test_inputs = [np.reshape(x, (784, 1)) for x in te_d[0]]\n",
        "    test_data = zip(test_inputs, te_d[1])\n",
        "    return (training_data, validation_data, test_data)\n",
        "\n",
        "def one_hot_result(j):\n",
        "    \"\"\"Return a 10-dimensional unit vector with a 1.0 in the jth\n",
        "    position and zeroes elsewhere.  This is used to convert a digit\n",
        "    (0...9) into a corresponding desired output from the neural\n",
        "    network.\"\"\"\n",
        "    e = np.zeros((10, 1))\n",
        "    e[j] = 1.0\n",
        "    return e"
      ],
      "metadata": {
        "id": "nOL5OMt7a7_8"
      },
      "execution_count": null,
      "outputs": []
    },
    {
      "cell_type": "code",
      "source": [
        "tr_d, va_d, te_d = load_data()\n",
        "print(type(tr_d))\n",
        "print(len(tr_d))\n",
        "print(type(tr_d[0]))\n",
        "print(tr_d[0].shape, tr_d[1].shape, te_d[0].shape, te_d[1].shape)"
      ],
      "metadata": {
        "id": "JWgRFwqAe_AN",
        "colab": {
          "base_uri": "https://localhost:8080/"
        },
        "outputId": "50ef34b8-5d99-4a23-d3e5-fed360933eb2"
      },
      "execution_count": null,
      "outputs": [
        {
          "output_type": "stream",
          "name": "stdout",
          "text": [
            "<class 'tuple'>\n",
            "2\n",
            "<class 'numpy.ndarray'>\n",
            "(50000, 784) (50000,) (10000, 784) (10000,)\n"
          ]
        }
      ]
    },
    {
      "cell_type": "code",
      "source": [
        "from google.colab import drive\n",
        "drive.mount('/content/drive')"
      ],
      "metadata": {
        "id": "eQ8cIchEV05d"
      },
      "execution_count": null,
      "outputs": []
    },
    {
      "cell_type": "code",
      "execution_count": null,
      "metadata": {
        "id": "EmCB6YlYXq4j"
      },
      "outputs": [],
      "source": [
        "#### Libraries\n",
        "# Standard library\n",
        "import random\n",
        "\n",
        "# Third-party libraries\n",
        "import numpy as np\n",
        "\n",
        "class Network(object):\n",
        "\n",
        "    def __init__(self, sizes):\n",
        "        \"\"\"The list ``sizes`` contains the number of neurons in the\n",
        "        respective layers of the network.  For example, if the list\n",
        "        was [2, 3, 1] then it would be a three-layer network, with the\n",
        "        first layer containing 2 neurons, the second layer 3 neurons,\n",
        "        and the third layer 1 neuron.  The biases and weights for the\n",
        "        network are initialized randomly, using a Gaussian\n",
        "        distribution with mean 0, and variance 1.  Note that the first\n",
        "        layer is assumed to be an input layer, and by convention we\n",
        "        won't set any biases for those neurons, since biases are only\n",
        "        ever used in computing the outputs from later layers.\"\"\"\n",
        "        self.num_layers = len(sizes)\n",
        "        self.sizes = sizes\n",
        "        self.biases = [np.random.randn(y, 1) for y in sizes[1:]]\n",
        "        self.weights = [np.random.randn(y, x)\n",
        "                        for x, y in zip(sizes[:-1], sizes[1:])]\n",
        "\n",
        "    def feedforward(self, a):\n",
        "        \"\"\"Return the output of the network if ``a`` is input.\"\"\"\n",
        "        for b, w in zip(self.biases, self.weights):\n",
        "            a = sigmoid(np.dot(w, a)+b)\n",
        "        return a\n",
        "\n",
        "    def SGD(self, training_data, epochs, mini_batch_size, eta,\n",
        "            test_data=None):\n",
        "        \"\"\"Train the neural network using mini-batch stochastic\n",
        "        gradient descent.  The ``training_data`` is a list of tuples\n",
        "        ``(x, y)`` representing the training inputs and the desired\n",
        "        outputs.  The other non-optional parameters are\n",
        "        self-explanatory.  If ``test_data`` is provided then the\n",
        "        network will be evaluated against the test data after each\n",
        "        epoch, and partial progress printed out.  This is useful for\n",
        "        tracking progress, but slows things down substantially.\"\"\"\n",
        "        if test_data: \n",
        "            test_data = list(test_data)\n",
        "            n_test = len(test_data)\n",
        "        \n",
        "        training_data = list(training_data)\n",
        "        n = len(training_data)\n",
        "\n",
        "        for j in range(epochs):\n",
        "            # shuffle the training data every time\n",
        "            random.shuffle(training_data)\n",
        "            # create minibatches of given size\n",
        "            mini_batches = [\n",
        "                training_data[k:k+mini_batch_size]\n",
        "                for k in range(0, n, mini_batch_size)]\n",
        "            # update minibatch using backpropagation\n",
        "            for mini_batch in mini_batches:\n",
        "                self.update_mini_batch(mini_batch, eta)\n",
        "\n",
        "\n",
        "\n",
        "            if test_data:\n",
        "                print(\"Epoch {}: {} / {}\".format(\n",
        "                    j, self.evaluate(test_data), n_test))\n",
        "            else:\n",
        "                print(\"Epoch {} complete\".format(j))\n",
        "\n",
        "    def update_mini_batch(self, mini_batch, eta):\n",
        "        \"\"\"Update the network's weights and biases by applying\n",
        "        gradient descent using backpropagation to a single mini batch.\n",
        "        The ``mini_batch`` is a list of tuples ``(x, y)``, and ``eta``\n",
        "        is the learning rate.\"\"\"\n",
        "        nabla_b = [np.zeros(b.shape) for b in self.biases]\n",
        "        nabla_w = [np.zeros(w.shape) for w in self.weights]\n",
        "\n",
        "\n",
        "        # create X and Y lists that are going to contain vectors from a minibatch.\n",
        "        # X list contains all the x (input) vectors from the pairs in the minibatch\n",
        "        # Y list contains all the y (label) vectors from the pairs in the minibatch\n",
        "        X = [pair[0] for pair in mini_batch]\n",
        "        Y = [pair[1] for pair in mini_batch]\n",
        "\n",
        "        # In this solution we are passing \"the whole minibatch\" instead of just one pair from \n",
        "        # the minibatch into the backpropagation function\n",
        "        nabla_b, nabla_w = self.backprop(X,Y)\n",
        "\n",
        "\n",
        "        self.weights = [w-(eta/len(mini_batch))*nw\n",
        "                        for w, nw in zip(self.weights, nabla_w)]\n",
        "        self.biases = [b-(eta/len(mini_batch))*nb\n",
        "                       for b, nb in zip(self.biases, nabla_b)]\n",
        "\n",
        "    def backprop(self, X, Y):\n",
        "        \"\"\"Return a tuple ``(nabla_b, nabla_w)`` representing the\n",
        "        gradient for the cost function C_x.  ``nabla_b`` and\n",
        "        ``nabla_w`` are layer-by-layer lists of numpy arrays, similar\n",
        "        to ``self.biases`` and ``self.weights``.\"\"\"\n",
        "        nabla_b = [np.zeros(b.shape) for b in self.biases]\n",
        "        nabla_w = [np.zeros(w.shape) for w in self.weights]\n",
        "\n",
        "        # Create the np array the same size as biases and weights that are\n",
        "        # going to contain the updated nabla_b and unpdated nabla_w \n",
        "        total_nabla_b = [np.zeros(b.shape) for b in self.biases]\n",
        "        total_nabla_w = [np.zeros(b.shape) for b in self.weights]\n",
        "\n",
        "        # iterate over an element from X and Y paralely at the same time using zip\n",
        "        for column_X, column_Y in zip(X,Y):\n",
        "\n",
        "          activation = column_X # take first column of the X\n",
        "          activations = [column_X] # list to store all the activations, layer by layer\n",
        "\n",
        "          zs = [] # list to store all the z vectors, layer by layer\n",
        "\n",
        "          # feedforward\n",
        "          for b, w in zip(self.biases, self.weights):\n",
        "              z = np.dot(w, activation)+b\n",
        "              zs.append(z)\n",
        "              activation = sigmoid(z)\n",
        "              activations.append(activation)\n",
        "\n",
        "          # Calculate the error in the last layer\n",
        "          delta = self.cost_derivative(activations[-1], column_Y) * \\\n",
        "              sigmoid_prime(zs[-1])\n",
        "\n",
        "          # change in biases with respect to cost is equal to the change in the last layer\n",
        "          nabla_b[-1] = delta\n",
        "          nabla_w[-1] = np.dot(delta, activations[-2].transpose())\n",
        "          # Note that the variable l in the loop below is used a little\n",
        "          # differently to the notation in Chapter 2 of the book.  Here,\n",
        "          # l = 1 means the last layer of neurons, l = 2 is the\n",
        "          # second-last layer, and so on.  It's a renumbering of the\n",
        "          # scheme in the book, used here to take advantage of the fact\n",
        "          # that Python can use negative indices in lists.\n",
        "\n",
        "          # back pass\n",
        "          for l in range(2, self.num_layers):\n",
        "              z = zs[-l]\n",
        "              sp = sigmoid_prime(z)\n",
        "              delta = np.dot(self.weights[-l+1].transpose(), delta) * sp\n",
        "              nabla_b[-l] = delta\n",
        "              nabla_w[-l] = np.dot(delta, activations[-l-1].transpose())\n",
        "\n",
        "          # update the weights and biases\n",
        "          total_nabla_b = [nb+dnb for nb, dnb in zip(total_nabla_b, nabla_b)]\n",
        "          total_nabla_w = [nw+dnw for nw, dnw in zip(total_nabla_w, nabla_w)]\n",
        "\n",
        "        return (total_nabla_b, total_nabla_w)\n",
        "\n",
        "    def evaluate(self, test_data):\n",
        "        \"\"\"Return the number of test inputs for which the neural\n",
        "        network outputs the correct result. Note that the neural\n",
        "        network k's output is assumed to be the index of whichever\n",
        "        neuron in the final layer has the highest activation.\"\"\"\n",
        "        test_results = [(np.argmax(self.feedforward(x)), y)\n",
        "                        for (x, y) in test_data]\n",
        "        return sum(int(x == y) for (x, y) in test_results)\n",
        "\n",
        "    def cost_derivative(self, output_activations, y):\n",
        "        \"\"\"Return the vector of partial derivatives \\partial C_x /\n",
        "        \\partial a for the output activations.\"\"\"\n",
        "        return (output_activations-y)\n",
        "\n",
        "#### Miscellaneous functions\n",
        "def sigmoid(z):\n",
        "    \"\"\"The sigmoid function.\"\"\"\n",
        "    return 1.0/(1.0+np.exp(-z))\n",
        "\n",
        "def sigmoid_prime(z):\n",
        "    \"\"\"Derivative of the sigmoid function.\"\"\"\n",
        "    return sigmoid(z)*(1-sigmoid(z))"
      ]
    },
    {
      "cell_type": "code",
      "source": [
        "tr, v, te = load_data_wrapper()\n",
        "net = Network([784, 30, 10]) "
      ],
      "metadata": {
        "id": "AJ09qJiu8N67"
      },
      "execution_count": null,
      "outputs": []
    },
    {
      "cell_type": "code",
      "source": [
        "net.SGD(tr, 30, 10, 3.0, test_data=te)"
      ],
      "metadata": {
        "colab": {
          "base_uri": "https://localhost:8080/"
        },
        "id": "xzBjyMRB-MeX",
        "outputId": "cdd2d64f-83a9-4c29-b408-b0423e701738"
      },
      "execution_count": null,
      "outputs": [
        {
          "output_type": "stream",
          "name": "stdout",
          "text": [
            "Epoch 0: 9135 / 10000\n",
            "Epoch 1: 9269 / 10000\n",
            "Epoch 2: 9299 / 10000\n",
            "Epoch 3: 9351 / 10000\n",
            "Epoch 4: 9386 / 10000\n",
            "Epoch 5: 9398 / 10000\n",
            "Epoch 6: 9444 / 10000\n",
            "Epoch 7: 9417 / 10000\n",
            "Epoch 8: 9466 / 10000\n",
            "Epoch 9: 9470 / 10000\n",
            "Epoch 10: 9484 / 10000\n",
            "Epoch 11: 9466 / 10000\n",
            "Epoch 12: 9462 / 10000\n",
            "Epoch 13: 9497 / 10000\n",
            "Epoch 14: 9407 / 10000\n",
            "Epoch 15: 9496 / 10000\n",
            "Epoch 16: 9511 / 10000\n",
            "Epoch 17: 9521 / 10000\n",
            "Epoch 18: 9524 / 10000\n",
            "Epoch 19: 9494 / 10000\n",
            "Epoch 20: 9507 / 10000\n",
            "Epoch 21: 9546 / 10000\n",
            "Epoch 22: 9516 / 10000\n",
            "Epoch 23: 9514 / 10000\n",
            "Epoch 24: 9545 / 10000\n",
            "Epoch 25: 9509 / 10000\n",
            "Epoch 26: 9523 / 10000\n",
            "Epoch 27: 9517 / 10000\n",
            "Epoch 28: 9501 / 10000\n",
            "Epoch 29: 9535 / 10000\n"
          ]
        }
      ]
    },
    {
      "cell_type": "code",
      "source": [
        "tr, v, te = load_data_wrapper()"
      ],
      "metadata": {
        "id": "qAwBvR0ZViRC"
      },
      "execution_count": null,
      "outputs": []
    },
    {
      "cell_type": "code",
      "source": [
        "upto = 5\n",
        "for img, lab in te:\n",
        "    pred = net.feedforward(img)\n",
        "    pred_lab = np.argmax(pred)\n",
        "    if pred_lab != lab:\n",
        "        plt.imshow(img.reshape((28, 28)))\n",
        "        plt.show()\n",
        "        print(\"predicted:\", pred_lab, \"actual:\", lab)\n",
        "        upto -= 1\n",
        "    if upto < 1: break"
      ],
      "metadata": {
        "colab": {
          "base_uri": "https://localhost:8080/",
          "height": 1000
        },
        "id": "CxeRWnGYbZH_",
        "outputId": "ac935067-12ed-4d8f-a34b-45b6416db619"
      },
      "execution_count": null,
      "outputs": [
        {
          "output_type": "display_data",
          "data": {
            "image/png": "[encoded data removed]",
            "text/plain": [
              "<Figure size 432x288 with 1 Axes>"
            ]
          },
          "metadata": {
            "needs_background": "light"
          }
        },
        {
          "output_type": "stream",
          "name": "stdout",
          "text": [
            "predicted: 2 actual: 8\n"
          ]
        },
        {
          "output_type": "display_data",
          "data": {
            "image/png": "[encoded data removed]",
            "text/plain": [
              "<Figure size 432x288 with 1 Axes>"
            ]
          },
          "metadata": {
            "needs_background": "light"
          }
        },
        {
          "output_type": "stream",
          "name": "stdout",
          "text": [
            "predicted: 9 actual: 2\n"
          ]
        },
        {
          "output_type": "display_data",
          "data": {
            "image/png": "[encoded data removed]",
            "text/plain": [
              "<Figure size 432x288 with 1 Axes>"
            ]
          },
          "metadata": {
            "needs_background": "light"
          }
        },
        {
          "output_type": "stream",
          "name": "stdout",
          "text": [
            "predicted: 8 actual: 9\n"
          ]
        },
        {
          "output_type": "display_data",
          "data": {
            "image/png": "[encoded data removed]",
            "text/plain": [
              "<Figure size 432x288 with 1 Axes>"
            ]
          },
          "metadata": {
            "needs_background": "light"
          }
        },
        {
          "output_type": "stream",
          "name": "stdout",
          "text": [
            "predicted: 2 actual: 3\n"
          ]
        },
        {
          "output_type": "display_data",
          "data": {
            "image/png": "[encoded data removed]",
            "text/plain": [
              "<Figure size 432x288 with 1 Axes>"
            ]
          },
          "metadata": {
            "needs_background": "light"
          }
        },
        {
          "output_type": "stream",
          "name": "stdout",
          "text": [
            "predicted: 8 actual: 9\n"
          ]
        }
      ]
    },
    {
      "cell_type": "markdown",
      "source": [
        "## Now use keras"
      ],
      "metadata": {
        "id": "6eI1nOK-BntU"
      }
    },
    {
      "cell_type": "code",
      "source": [
        "import numpy as np\n",
        "from tensorflow import keras\n",
        "from tensorflow.keras import layers\n",
        "\n",
        "# Model / data parameters\n",
        "num_classes = 10\n",
        "# input_shape = (28, 28, 1)\n",
        "input_shape = (28 * 28, )\n",
        "\n",
        "\n",
        "# the data, split between train and test sets\n",
        "(x_train, y_train), (x_test, y_test) = keras.datasets.mnist.load_data()\n",
        "\n",
        "# Scale images to the [0, 1] range\n",
        "x_train = x_train.astype(\"float32\") / 255\n",
        "x_test = x_test.astype(\"float32\") / 255\n",
        "# Make sure images have shape (28, 28, 1)\n",
        "# x_train = np.expand_dims(x_train, -1)\n",
        "# x_test = np.expand_dims(x_test, -1)\n",
        "\n",
        "# Make sure images have shape (28 * 28, 1)\n",
        "x_train = x_train.reshape((-1, 28 * 28))\n",
        "x_test = x_test.reshape((-1, 28 * 28))\n",
        "# x_train = np.expand_dims(x_train, -1)\n",
        "# x_test = np.expand_dims(x_test, -1)\n",
        "\n",
        "print(\"x_train shape:\", x_train.shape)\n",
        "print(x_train.shape[0], \"train samples\")\n",
        "print(x_test.shape[0], \"test samples\")\n",
        "\n",
        "# convert class vectors to binary class matrices\n",
        "y_train = keras.utils.to_categorical(y_train, num_classes)\n",
        "y_test = keras.utils.to_categorical(y_test, num_classes)"
      ],
      "metadata": {
        "colab": {
          "base_uri": "https://localhost:8080/"
        },
        "id": "2hfqvzNMdSei",
        "outputId": "82d7d6c5-ca49-4575-c1b2-74fa1bbc569a"
      },
      "execution_count": null,
      "outputs": [
        {
          "output_type": "stream",
          "name": "stdout",
          "text": [
            "Downloading data from https://storage.googleapis.com/tensorflow/tf-keras-datasets/mnist.npz\n",
            "11493376/11490434 [==============================] - 0s 0us/step\n",
            "11501568/11490434 [==============================] - 0s 0us/step\n",
            "x_train shape: (60000, 784)\n",
            "60000 train samples\n",
            "10000 test samples\n"
          ]
        }
      ]
    },
    {
      "cell_type": "code",
      "source": [
        "model = keras.Sequential(\n",
        "    [\n",
        "        keras.Input(shape=input_shape),\n",
        "        layers.Dense(30, activation=\"sigmoid\"), # 30 hidden neurons\n",
        "        layers.Dense(10, activation=\"softmax\"), # 10 output neurons, 1 for each class\n",
        "    ]\n",
        ")\n",
        "\n",
        "model.summary()"
      ],
      "metadata": {
        "colab": {
          "base_uri": "https://localhost:8080/"
        },
        "id": "V9OIaWjACkzE",
        "outputId": "11dbdcfc-5052-45a8-dcca-b78e7340d9a0"
      },
      "execution_count": null,
      "outputs": [
        {
          "output_type": "stream",
          "name": "stdout",
          "text": [
            "Model: \"sequential_1\"\n",
            "_________________________________________________________________\n",
            " Layer (type)                Output Shape              Param #   \n",
            "=================================================================\n",
            " dense_2 (Dense)             (None, 30)                23550     \n",
            "                                                                 \n",
            " dense_3 (Dense)             (None, 10)                310       \n",
            "                                                                 \n",
            "=================================================================\n",
            "Total params: 23,860\n",
            "Trainable params: 23,860\n",
            "Non-trainable params: 0\n",
            "_________________________________________________________________\n"
          ]
        }
      ]
    },
    {
      "cell_type": "code",
      "source": [
        "model.compile(\n",
        "    loss=keras.losses.MeanSquaredError(reduction=keras.losses.Reduction.SUM), \n",
        "    optimizer=keras.optimizers.SGD(learning_rate=3), \n",
        "    metrics=[keras.metrics.CategoricalAccuracy()]\n",
        ")\n",
        "# Default reduction is average over dims followed by average over batch size\n",
        "# see Scratch section\n",
        "\n",
        "model.fit(\n",
        "    x_train, y_train, batch_size=10, epochs=30, validation_split=0.1\n",
        ")"
      ],
      "metadata": {
        "colab": {
          "base_uri": "https://localhost:8080/"
        },
        "id": "pu8rcweiEEKN",
        "outputId": "0e3b0b61-6304-4be7-a0ad-2b119eb63804"
      },
      "execution_count": null,
      "outputs": [
        {
          "output_type": "stream",
          "name": "stdout",
          "text": [
            "Epoch 1/30\n",
            "5400/5400 [==============================] - 11s 2ms/step - loss: 0.1690 - categorical_accuracy: 0.8878 - val_loss: 0.1235 - val_categorical_accuracy: 0.9218\n",
            "Epoch 2/30\n",
            "5400/5400 [==============================] - 10s 2ms/step - loss: 0.1239 - categorical_accuracy: 0.9212 - val_loss: 0.0869 - val_categorical_accuracy: 0.9458\n",
            "Epoch 3/30\n",
            "5400/5400 [==============================] - 10s 2ms/step - loss: 0.1142 - categorical_accuracy: 0.9275 - val_loss: 0.0907 - val_categorical_accuracy: 0.9433\n",
            "Epoch 4/30\n",
            "5400/5400 [==============================] - 10s 2ms/step - loss: 0.1107 - categorical_accuracy: 0.9310 - val_loss: 0.0843 - val_categorical_accuracy: 0.9477\n",
            "Epoch 5/30\n",
            "5400/5400 [==============================] - 12s 2ms/step - loss: 0.1011 - categorical_accuracy: 0.9365 - val_loss: 0.0810 - val_categorical_accuracy: 0.9503\n",
            "Epoch 6/30\n",
            "5400/5400 [==============================] - 10s 2ms/step - loss: 0.1015 - categorical_accuracy: 0.9367 - val_loss: 0.0771 - val_categorical_accuracy: 0.9522\n",
            "Epoch 7/30\n",
            "5400/5400 [==============================] - 10s 2ms/step - loss: 0.0950 - categorical_accuracy: 0.9413 - val_loss: 0.0841 - val_categorical_accuracy: 0.9483\n",
            "Epoch 8/30\n",
            "5400/5400 [==============================] - 10s 2ms/step - loss: 0.0943 - categorical_accuracy: 0.9419 - val_loss: 0.0911 - val_categorical_accuracy: 0.9448\n",
            "Epoch 9/30\n",
            "5400/5400 [==============================] - 9s 2ms/step - loss: 0.0896 - categorical_accuracy: 0.9451 - val_loss: 0.0733 - val_categorical_accuracy: 0.9547\n",
            "Epoch 10/30\n",
            "5400/5400 [==============================] - 9s 2ms/step - loss: 0.0889 - categorical_accuracy: 0.9455 - val_loss: 0.0747 - val_categorical_accuracy: 0.9532\n",
            "Epoch 11/30\n",
            "5400/5400 [==============================] - 10s 2ms/step - loss: 0.0847 - categorical_accuracy: 0.9475 - val_loss: 0.0984 - val_categorical_accuracy: 0.9407\n",
            "Epoch 12/30\n",
            "5400/5400 [==============================] - 9s 2ms/step - loss: 0.0862 - categorical_accuracy: 0.9472 - val_loss: 0.0698 - val_categorical_accuracy: 0.9562\n",
            "Epoch 13/30\n",
            "5400/5400 [==============================] - 9s 2ms/step - loss: 0.0791 - categorical_accuracy: 0.9516 - val_loss: 0.0769 - val_categorical_accuracy: 0.9540\n",
            "Epoch 14/30\n",
            "5400/5400 [==============================] - 10s 2ms/step - loss: 0.0803 - categorical_accuracy: 0.9510 - val_loss: 0.0886 - val_categorical_accuracy: 0.9462\n",
            "Epoch 15/30\n",
            "5400/5400 [==============================] - 9s 2ms/step - loss: 0.0785 - categorical_accuracy: 0.9524 - val_loss: 0.0771 - val_categorical_accuracy: 0.9512\n",
            "Epoch 16/30\n",
            "5400/5400 [==============================] - 9s 2ms/step - loss: 0.0782 - categorical_accuracy: 0.9524 - val_loss: 0.0759 - val_categorical_accuracy: 0.9530\n",
            "Epoch 17/30\n",
            "5400/5400 [==============================] - 10s 2ms/step - loss: 0.0772 - categorical_accuracy: 0.9527 - val_loss: 0.0776 - val_categorical_accuracy: 0.9510\n",
            "Epoch 18/30\n",
            "5400/5400 [==============================] - 9s 2ms/step - loss: 0.0729 - categorical_accuracy: 0.9558 - val_loss: 0.0694 - val_categorical_accuracy: 0.9575\n",
            "Epoch 19/30\n",
            "5400/5400 [==============================] - 9s 2ms/step - loss: 0.0737 - categorical_accuracy: 0.9548 - val_loss: 0.0753 - val_categorical_accuracy: 0.9538\n",
            "Epoch 20/30\n",
            "5400/5400 [==============================] - 9s 2ms/step - loss: 0.0738 - categorical_accuracy: 0.9555 - val_loss: 0.0725 - val_categorical_accuracy: 0.9577\n",
            "Epoch 21/30\n",
            "5400/5400 [==============================] - 9s 2ms/step - loss: 0.0727 - categorical_accuracy: 0.9559 - val_loss: 0.0806 - val_categorical_accuracy: 0.9503\n",
            "Epoch 22/30\n",
            "5400/5400 [==============================] - 9s 2ms/step - loss: 0.0754 - categorical_accuracy: 0.9547 - val_loss: 0.0796 - val_categorical_accuracy: 0.9527\n",
            "Epoch 23/30\n",
            "5400/5400 [==============================] - 9s 2ms/step - loss: 0.0726 - categorical_accuracy: 0.9560 - val_loss: 0.0721 - val_categorical_accuracy: 0.9558\n",
            "Epoch 24/30\n",
            "5400/5400 [==============================] - 9s 2ms/step - loss: 0.0693 - categorical_accuracy: 0.9584 - val_loss: 0.0673 - val_categorical_accuracy: 0.9608\n",
            "Epoch 25/30\n",
            "5400/5400 [==============================] - 9s 2ms/step - loss: 0.0704 - categorical_accuracy: 0.9575 - val_loss: 0.0749 - val_categorical_accuracy: 0.9550\n",
            "Epoch 26/30\n",
            "5400/5400 [==============================] - 9s 2ms/step - loss: 0.0671 - categorical_accuracy: 0.9595 - val_loss: 0.0777 - val_categorical_accuracy: 0.9548\n",
            "Epoch 27/30\n",
            "5400/5400 [==============================] - 9s 2ms/step - loss: 0.0691 - categorical_accuracy: 0.9581 - val_loss: 0.0723 - val_categorical_accuracy: 0.9553\n",
            "Epoch 28/30\n",
            "5400/5400 [==============================] - 9s 2ms/step - loss: 0.0653 - categorical_accuracy: 0.9609 - val_loss: 0.0704 - val_categorical_accuracy: 0.9577\n",
            "Epoch 29/30\n",
            "5400/5400 [==============================] - 10s 2ms/step - loss: 0.0672 - categorical_accuracy: 0.9600 - val_loss: 0.0714 - val_categorical_accuracy: 0.9587\n",
            "Epoch 30/30\n",
            "5400/5400 [==============================] - 9s 2ms/step - loss: 0.0693 - categorical_accuracy: 0.9584 - val_loss: 0.0780 - val_categorical_accuracy: 0.9542\n"
          ]
        },
        {
          "output_type": "execute_result",
          "data": {
            "text/plain": [
              "<keras.callbacks.History at 0x7fb8a44044d0>"
            ]
          },
          "metadata": {},
          "execution_count": 57
        }
      ]
    },
    {
      "cell_type": "code",
      "source": [
        "score = model.evaluate(x_test, y_test, verbose=0)\n",
        "print(\"Test loss:\", score[0])\n",
        "print(\"Test accuracy:\", score[1])"
      ],
      "metadata": {
        "id": "XDChC7W5IncP",
        "colab": {
          "base_uri": "https://localhost:8080/"
        },
        "outputId": "42bc28b8-7aa4-4fb7-b07d-adb3ac061e75"
      },
      "execution_count": null,
      "outputs": [
        {
          "output_type": "stream",
          "name": "stdout",
          "text": [
            "Test loss: 0.2533735930919647\n",
            "Test accuracy: 0.9520999789237976\n"
          ]
        }
      ]
    },
    {
      "cell_type": "markdown",
      "source": [
        "# Scratch"
      ],
      "metadata": {
        "id": "3Rdlif3b7E1Y"
      }
    },
    {
      "cell_type": "code",
      "source": [
        "upto = 2\n",
        "for img, lab in te:\n",
        "    print(img.shape, lab.shape)\n",
        "    upto -= 1\n",
        "    if upto < 1: break"
      ],
      "metadata": {
        "colab": {
          "base_uri": "https://localhost:8080/"
        },
        "id": "G7AMZaNnZ-0B",
        "outputId": "968f4111-2c84-494e-9347-42a4ab2f58b3"
      },
      "execution_count": null,
      "outputs": [
        {
          "output_type": "stream",
          "name": "stdout",
          "text": [
            "(784, 1) ()\n",
            "(784, 1) ()\n"
          ]
        }
      ]
    },
    {
      "cell_type": "code",
      "source": [
        "upto = 2\n",
        "for img, lab in te:\n",
        "    pred = net.feedforward(img)\n",
        "    print(pred, lab)\n",
        "    upto -= 1\n",
        "    if upto < 1: break"
      ],
      "metadata": {
        "colab": {
          "base_uri": "https://localhost:8080/"
        },
        "id": "OUTgRNPCaMuB",
        "outputId": "30803a47-4d45-4a86-86f3-fb81239dca16"
      },
      "execution_count": null,
      "outputs": [
        {
          "output_type": "stream",
          "name": "stdout",
          "text": [
            "[[9.94852847e-16]\n",
            " [9.99287714e-01]\n",
            " [2.78055426e-08]\n",
            " [3.83721098e-06]\n",
            " [3.54855330e-06]\n",
            " [1.76447776e-10]\n",
            " [6.69120469e-05]\n",
            " [3.00309416e-03]\n",
            " [7.69461463e-07]\n",
            " [9.79708934e-07]] 1\n",
            "[[9.95514280e-01]\n",
            " [2.24533820e-05]\n",
            " [2.34155561e-07]\n",
            " [2.71358388e-07]\n",
            " [4.68065814e-04]\n",
            " [2.79598157e-07]\n",
            " [1.26880537e-04]\n",
            " [6.04709061e-08]\n",
            " [6.76297748e-08]\n",
            " [5.61063683e-05]] 0\n"
          ]
        }
      ]
    },
    {
      "cell_type": "code",
      "source": [
        "import matplotlib.pyplot as plt\n",
        "plt.imshow(img.reshape((28, 28)))"
      ],
      "metadata": {
        "colab": {
          "base_uri": "https://localhost:8080/",
          "height": 282
        },
        "id": "XqoJ8CJTawXt",
        "outputId": "164315c7-7492-47b7-c823-954f063b1065"
      },
      "execution_count": null,
      "outputs": [
        {
          "output_type": "execute_result",
          "data": {
            "text/plain": [
              "<matplotlib.image.AxesImage at 0x7fb92544e710>"
            ]
          },
          "metadata": {},
          "execution_count": 42
        },
        {
          "output_type": "display_data",
          "data": {
            "image/png": "[encoded data removed]",
            "text/plain": [
              "<Figure size 432x288 with 1 Axes>"
            ]
          },
          "metadata": {
            "needs_background": "light"
          }
        }
      ]
    },
    {
      "cell_type": "code",
      "source": [
        "upto = 2\n",
        "for img, lab in te:\n",
        "    pred = net.feedforward(img)\n",
        "    pred_lab = np.argmax(pred)\n",
        "    print(pred_lab, lab)\n",
        "    upto -= 1\n",
        "    if upto < 1: break"
      ],
      "metadata": {
        "colab": {
          "base_uri": "https://localhost:8080/"
        },
        "id": "iay5GFOKbNEB",
        "outputId": "300d3d42-604d-47c6-f9a6-6f0fef0adbf9"
      },
      "execution_count": null,
      "outputs": [
        {
          "output_type": "stream",
          "name": "stdout",
          "text": [
            "4 4\n",
            "1 1\n"
          ]
        }
      ]
    },
    {
      "cell_type": "code",
      "source": [
        "upto = 1\n",
        "z = zip([1, 2], [4, 5])\n",
        "for x, y in z:\n",
        "    print(x, y)\n",
        "    upto -= 1\n",
        "    if upto < 1: break"
      ],
      "metadata": {
        "colab": {
          "base_uri": "https://localhost:8080/"
        },
        "id": "eJP5Fa31YXIT",
        "outputId": "58318e81-bf25-4171-dae4-149ea61cc58a"
      },
      "execution_count": null,
      "outputs": [
        {
          "output_type": "stream",
          "name": "stdout",
          "text": [
            "1 4\n"
          ]
        }
      ]
    },
    {
      "cell_type": "code",
      "source": [
        "y = list(z)\n",
        "y"
      ],
      "metadata": {
        "colab": {
          "base_uri": "https://localhost:8080/"
        },
        "id": "OpHQFtI8Yk5a",
        "outputId": "b2d457ac-2dd6-4405-d153-928cc7e80a01"
      },
      "execution_count": null,
      "outputs": [
        {
          "output_type": "execute_result",
          "data": {
            "text/plain": [
              "[(2, 5)]"
            ]
          },
          "metadata": {},
          "execution_count": 35
        }
      ]
    },
    {
      "cell_type": "code",
      "source": [
        "'''\n",
        "For some reason this results in corrupted files\n",
        "'''\n",
        "\n",
        "#!wget https://github.com/mnielsen/neural-networks-and-deep-learning/blob/master/data/mnist.pkl.gz \n",
        "#!wget https://github.com/MichalDanielDobrzanski/DeepLearningPython/blob/master/mnist.pkl.gz "
      ],
      "metadata": {
        "id": "eED9FDQkBdUy"
      },
      "execution_count": null,
      "outputs": []
    },
    {
      "cell_type": "code",
      "source": [
        "pred = np.argmax(model(x_test), axis=1)\n",
        "true = np.argmax(y_test, axis=1)"
      ],
      "metadata": {
        "id": "w78W39l0Gn6c"
      },
      "execution_count": null,
      "outputs": []
    },
    {
      "cell_type": "code",
      "source": [
        "# y_test[:2]\n",
        "sum(pred == true) / len(y_test)\n",
        "# m = keras.metrics.Accuracy()\n",
        "# m.update_state(np.expand_dims(pred, axis=1), np.expand_dims(true, axis=1))\n",
        "# m.result().numpy()"
      ],
      "metadata": {
        "colab": {
          "base_uri": "https://localhost:8080/"
        },
        "id": "JT4gHLyHS7Ly",
        "outputId": "f7b341ce-be13-44d4-e953-111f6d816e5d"
      },
      "execution_count": null,
      "outputs": [
        {
          "output_type": "execute_result",
          "data": {
            "text/plain": [
              "0.1151"
            ]
          },
          "metadata": {},
          "execution_count": 19
        }
      ]
    },
    {
      "cell_type": "code",
      "source": [
        "# np.expand_dims(pred, axis=1)[:3]\n",
        "# pred[:3]\n",
        "print(y_test[:3])\n",
        "model(x_test[:3])"
      ],
      "metadata": {
        "colab": {
          "base_uri": "https://localhost:8080/"
        },
        "id": "-hW9KAw_xBP7",
        "outputId": "1bbfb57e-9941-41aa-80e3-806d7980a107"
      },
      "execution_count": null,
      "outputs": [
        {
          "output_type": "stream",
          "name": "stdout",
          "text": [
            "[[0. 0. 0. 0. 0. 0. 0. 1. 0. 0.]\n",
            " [0. 0. 1. 0. 0. 0. 0. 0. 0. 0.]\n",
            " [0. 1. 0. 0. 0. 0. 0. 0. 0. 0.]]\n"
          ]
        },
        {
          "output_type": "execute_result",
          "data": {
            "text/plain": [
              "<tf.Tensor: shape=(3, 10), dtype=float32, numpy=\n",
              "array([[0.02702972, 0.1902639 , 0.05914813, 0.05440875, 0.09455995,\n",
              "        0.17240931, 0.03179046, 0.12296242, 0.11256479, 0.13486259],\n",
              "       [0.02055437, 0.18911885, 0.05087472, 0.05972384, 0.09683575,\n",
              "        0.17117271, 0.03097234, 0.14020933, 0.11615209, 0.12438594],\n",
              "       [0.02596499, 0.19241272, 0.05001093, 0.06918433, 0.09283505,\n",
              "        0.19412108, 0.02545374, 0.12864646, 0.10250535, 0.11886541]],\n",
              "      dtype=float32)>"
            ]
          },
          "metadata": {},
          "execution_count": 24
        }
      ]
    },
    {
      "cell_type": "code",
      "source": [
        "m = keras.metrics.CategoricalAccuracy()\n",
        "m.update_state(model(x_test[:9]), y_test[:9])\n",
        "m.result().numpy()"
      ],
      "metadata": {
        "colab": {
          "base_uri": "https://localhost:8080/"
        },
        "id": "R20oo8vjy007",
        "outputId": "89f09d27-c164-4045-bd89-3b34c40c6dc9"
      },
      "execution_count": null,
      "outputs": [
        {
          "output_type": "execute_result",
          "data": {
            "text/plain": [
              "0.22222222"
            ]
          },
          "metadata": {},
          "execution_count": 36
        }
      ]
    },
    {
      "cell_type": "code",
      "source": [
        "print(true[:9])\n",
        "print(pred[:9])"
      ],
      "metadata": {
        "colab": {
          "base_uri": "https://localhost:8080/"
        },
        "id": "rpNrS2QK1VmI",
        "outputId": "21e56d49-88a1-45fd-b57a-0cfe5537c9d2"
      },
      "execution_count": null,
      "outputs": [
        {
          "output_type": "stream",
          "name": "stdout",
          "text": [
            "[7 2 1 0 4 1 4 9 5]\n",
            "[1 1 5 5 5 1 5 1 5]\n"
          ]
        }
      ]
    },
    {
      "cell_type": "code",
      "source": [
        "# model(x_test[:9]).numpy()\n",
        "y_test[:9]"
      ],
      "metadata": {
        "colab": {
          "base_uri": "https://localhost:8080/"
        },
        "id": "_zJuR43B1o97",
        "outputId": "00337da5-4edd-4c64-b881-40af0e477da9"
      },
      "execution_count": null,
      "outputs": [
        {
          "output_type": "execute_result",
          "data": {
            "text/plain": [
              "array([[0., 0., 0., 0., 0., 0., 0., 1., 0., 0.],\n",
              "       [0., 0., 1., 0., 0., 0., 0., 0., 0., 0.],\n",
              "       [0., 1., 0., 0., 0., 0., 0., 0., 0., 0.],\n",
              "       [1., 0., 0., 0., 0., 0., 0., 0., 0., 0.],\n",
              "       [0., 0., 0., 0., 1., 0., 0., 0., 0., 0.],\n",
              "       [0., 1., 0., 0., 0., 0., 0., 0., 0., 0.],\n",
              "       [0., 0., 0., 0., 1., 0., 0., 0., 0., 0.],\n",
              "       [0., 0., 0., 0., 0., 0., 0., 0., 0., 1.],\n",
              "       [0., 0., 0., 0., 0., 1., 0., 0., 0., 0.]], dtype=float32)"
            ]
          },
          "metadata": {},
          "execution_count": 33
        }
      ]
    },
    {
      "cell_type": "code",
      "source": [
        "mse = keras.losses.MeanSquaredError()\n",
        "mse(y_train[:2], model(x_train[:2]))"
      ],
      "metadata": {
        "colab": {
          "base_uri": "https://localhost:8080/"
        },
        "id": "S_mgVwM2K0lK",
        "outputId": "a4252d17-6e27-415c-f369-d2daa074d788"
      },
      "execution_count": null,
      "outputs": [
        {
          "output_type": "execute_result",
          "data": {
            "text/plain": [
              "<tf.Tensor: shape=(), dtype=float32, numpy=0.0016072472>"
            ]
          },
          "metadata": {},
          "execution_count": 16
        }
      ]
    },
    {
      "cell_type": "code",
      "source": [
        "y_true = [[0.3, 1.], [0., 0.]]\n",
        "y_pred = [[1., 1.], [1., 0.99]]\n",
        "# Using 'auto'/'sum_over_batch_size' reduction type.\n",
        "mse = keras.losses.MeanSquaredError(reduction=keras.losses.Reduction.SUM)\n",
        "mse(y_true, y_pred).numpy()"
      ],
      "metadata": {
        "colab": {
          "base_uri": "https://localhost:8080/"
        },
        "id": "gXJJ_otVLHbe",
        "outputId": "7b9c2171-c3d2-4882-cc0e-cdb10dff3814"
      },
      "execution_count": null,
      "outputs": [
        {
          "output_type": "execute_result",
          "data": {
            "text/plain": [
              "1.23505"
            ]
          },
          "metadata": {},
          "execution_count": 40
        }
      ]
    },
    {
      "cell_type": "code",
      "source": [
        "np.square(np.array(y_true) - np.array(y_pred))"
      ],
      "metadata": {
        "colab": {
          "base_uri": "https://localhost:8080/"
        },
        "id": "i0LDHojoLqgo",
        "outputId": "3a94b4e5-3a3b-46ba-b55b-b039feea0c7e"
      },
      "execution_count": null,
      "outputs": [
        {
          "output_type": "execute_result",
          "data": {
            "text/plain": [
              "array([[0.49  , 0.    ],\n",
              "       [1.    , 0.9801]])"
            ]
          },
          "metadata": {},
          "execution_count": 41
        }
      ]
    },
    {
      "cell_type": "code",
      "source": [
        "# np.average(np.square(np.array(y_true) - np.array(y_pred)), axis=1)\n",
        "np.sum(np.square(np.array(y_true) - np.array(y_pred)), axis=1)"
      ],
      "metadata": {
        "colab": {
          "base_uri": "https://localhost:8080/"
        },
        "id": "QmVR7RN2PCiJ",
        "outputId": "0eb15440-6da3-4bca-9e82-fa7643c8a478"
      },
      "execution_count": null,
      "outputs": [
        {
          "output_type": "execute_result",
          "data": {
            "text/plain": [
              "array([0.49  , 1.9801])"
            ]
          },
          "metadata": {},
          "execution_count": 42
        }
      ]
    },
    {
      "cell_type": "code",
      "source": [
        "# np.average(np.average(np.square(np.array(y_true) - np.array(y_pred)), axis=1))\n",
        "np.average(np.sum(np.square(np.array(y_true) - np.array(y_pred)), axis=1))"
      ],
      "metadata": {
        "colab": {
          "base_uri": "https://localhost:8080/"
        },
        "id": "MkQt0wISPvBQ",
        "outputId": "5e66980a-0abf-4a81-f074-3692cf02f9f3"
      },
      "execution_count": null,
      "outputs": [
        {
          "output_type": "execute_result",
          "data": {
            "text/plain": [
              "1.23505"
            ]
          },
          "metadata": {},
          "execution_count": 43
        }
      ]
    },
    {
      "cell_type": "code",
      "source": [
        ""
      ],
      "metadata": {
        "id": "cwECjimV6_Dg"
      },
      "execution_count": null,
      "outputs": []
    }
  ]
}